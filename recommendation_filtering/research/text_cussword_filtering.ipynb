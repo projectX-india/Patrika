{
 "cells": [
  {
   "cell_type": "code",
   "execution_count": 91,
   "id": "2ad5c744",
   "metadata": {},
   "outputs": [],
   "source": [
    "import re\n",
    "\n",
    "file = open(\"bad_words_list.txt\", \"r\")\n",
    "data = file.read().split(',')\n",
    "file.close()\n",
    "\n",
    "def is_cussword(s) -> bool:\n",
    "    if s in data:\n",
    "        return True\n",
    "    return False\n",
    "\n",
    "def replace_with_strike(s) -> str:\n",
    "    final_string = \"\"\n",
    "    clean_s = s\n",
    "    clean_s = re.sub(r'[^\\w\\s.]', ' ', s)\n",
    "    clean_s = re.sub(' +', ' ',s)\n",
    "    temp = clean_s.split(' ')\n",
    "    for s in temp:\n",
    "        if(is_cussword(s)):\n",
    "            final_string += (\"<<spank:\"+s+\">> \")\n",
    "        else:\n",
    "            final_string += (s+\" \")\n",
    "    \n",
    "#     print(final_string)\n",
    "    return final_string      "
   ]
  },
  {
   "cell_type": "code",
   "execution_count": 92,
   "id": "bbf59b0b",
   "metadata": {},
   "outputs": [
    {
     "name": "stdout",
     "output_type": "stream",
     "text": [
      "this is <<spank:boobs>> <<spank:ass>> hello there. i need to <<spank:fuck>> \n"
     ]
    }
   ],
   "source": [
    "# testing\n",
    "s = \"this is boobs ass   hello    there. i need to fuck\"\n",
    "s = replace_with_strike(s)\n",
    "print(s)"
   ]
  },
  {
   "cell_type": "code",
   "execution_count": null,
   "id": "57429df3",
   "metadata": {},
   "outputs": [],
   "source": []
  }
 ],
 "metadata": {
  "kernelspec": {
   "display_name": "patrika",
   "language": "python",
   "name": "patrika"
  },
  "language_info": {
   "codemirror_mode": {
    "name": "ipython",
    "version": 3
   },
   "file_extension": ".py",
   "mimetype": "text/x-python",
   "name": "python",
   "nbconvert_exporter": "python",
   "pygments_lexer": "ipython3",
   "version": "3.7.11"
  }
 },
 "nbformat": 4,
 "nbformat_minor": 5
}
